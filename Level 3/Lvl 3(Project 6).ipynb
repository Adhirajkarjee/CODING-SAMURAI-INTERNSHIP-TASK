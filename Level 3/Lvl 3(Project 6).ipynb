{
 "cells": [
  {
   "cell_type": "markdown",
   "id": "e154593e-427b-42ef-91c5-caff2884d849",
   "metadata": {},
   "source": [
    "Project 6: Sentiment Analysis on Social Media Data"
   ]
  },
  {
   "cell_type": "markdown",
   "id": "cf68c23c-2a9c-49c7-833d-47cb645c2696",
   "metadata": {},
   "source": [
    "Description: Collecting social media data (e.g., tweets) and performing sentiment analysis to determine if the sentiment is positive, negative,\n",
    "or neutral"
   ]
  },
  {
   "cell_type": "code",
   "execution_count": 1,
   "id": "904d728b-b532-4fb4-9b99-0dc181c4c2c1",
   "metadata": {},
   "outputs": [
    {
     "name": "stdout",
     "output_type": "stream",
     "text": [
      "Requirement already satisfied: pandas in c:\\users\\hp\\anaconda3\\lib\\site-packages (2.2.2)\n",
      "Collecting textblob\n",
      "  Downloading textblob-0.18.0.post0-py3-none-any.whl.metadata (4.5 kB)\n",
      "Requirement already satisfied: numpy>=1.26.0 in c:\\users\\hp\\anaconda3\\lib\\site-packages (from pandas) (1.26.4)\n",
      "Requirement already satisfied: python-dateutil>=2.8.2 in c:\\users\\hp\\appdata\\roaming\\python\\python312\\site-packages (from pandas) (2.9.0.post0)\n",
      "Requirement already satisfied: pytz>=2020.1 in c:\\users\\hp\\anaconda3\\lib\\site-packages (from pandas) (2024.1)\n",
      "Requirement already satisfied: tzdata>=2022.7 in c:\\users\\hp\\anaconda3\\lib\\site-packages (from pandas) (2023.3)\n",
      "Requirement already satisfied: nltk>=3.8 in c:\\users\\hp\\anaconda3\\lib\\site-packages (from textblob) (3.8.1)\n",
      "Requirement already satisfied: click in c:\\users\\hp\\anaconda3\\lib\\site-packages (from nltk>=3.8->textblob) (8.1.7)\n",
      "Requirement already satisfied: joblib in c:\\users\\hp\\anaconda3\\lib\\site-packages (from nltk>=3.8->textblob) (1.4.2)\n",
      "Requirement already satisfied: regex>=2021.8.3 in c:\\users\\hp\\anaconda3\\lib\\site-packages (from nltk>=3.8->textblob) (2023.10.3)\n",
      "Requirement already satisfied: tqdm in c:\\users\\hp\\anaconda3\\lib\\site-packages (from nltk>=3.8->textblob) (4.66.4)\n",
      "Requirement already satisfied: six>=1.5 in c:\\users\\hp\\appdata\\roaming\\python\\python312\\site-packages (from python-dateutil>=2.8.2->pandas) (1.16.0)\n",
      "Requirement already satisfied: colorama in c:\\users\\hp\\appdata\\roaming\\python\\python312\\site-packages (from click->nltk>=3.8->textblob) (0.4.6)\n",
      "Downloading textblob-0.18.0.post0-py3-none-any.whl (626 kB)\n",
      "   ---------------------------------------- 0.0/626.3 kB ? eta -:--:--\n",
      "   ---------------------------------------- 0.0/626.3 kB ? eta -:--:--\n",
      "   - ------------------------------------- 30.7/626.3 kB 660.6 kB/s eta 0:00:01\n",
      "   ------ ------------------------------- 102.4/626.3 kB 991.0 kB/s eta 0:00:01\n",
      "   ------------------------ --------------- 389.1/626.3 kB 2.7 MB/s eta 0:00:01\n",
      "   ---------------------------------------- 626.3/626.3 kB 3.6 MB/s eta 0:00:00\n",
      "Installing collected packages: textblob\n",
      "Successfully installed textblob-0.18.0.post0\n",
      "Note: you may need to restart the kernel to use updated packages.\n"
     ]
    }
   ],
   "source": [
    "pip install pandas textblob\n"
   ]
  },
  {
   "cell_type": "code",
   "execution_count": 5,
   "id": "aeb122a8-eaf4-4697-aaaf-88898aa2c0f0",
   "metadata": {},
   "outputs": [
    {
     "name": "stdout",
     "output_type": "stream",
     "text": [
      "   Unnamed: 0.1  Unnamed: 0  \\\n",
      "0             0           0   \n",
      "1             1           1   \n",
      "2             2           2   \n",
      "3             3           3   \n",
      "4             4           4   \n",
      "\n",
      "                                                Text    Sentiment  \\\n",
      "0   Enjoying a beautiful day at the park!        ...   Positive     \n",
      "1   Traffic was terrible this morning.           ...   Negative     \n",
      "2   Just finished an amazing workout! 💪          ...   Positive     \n",
      "3   Excited about the upcoming weekend getaway!  ...   Positive     \n",
      "4   Trying out a new recipe for dinner tonight.  ...   Neutral      \n",
      "\n",
      "             Timestamp            User     Platform  \\\n",
      "0  2023-01-15 12:30:00   User123          Twitter     \n",
      "1  2023-01-15 08:45:00   CommuterX        Twitter     \n",
      "2  2023-01-15 15:45:00   FitnessFan      Instagram    \n",
      "3  2023-01-15 18:20:00   AdventureX       Facebook    \n",
      "4  2023-01-15 19:55:00   ChefCook        Instagram    \n",
      "\n",
      "                                     Hashtags  Retweets  Likes       Country  \\\n",
      "0   #Nature #Park                                  15.0   30.0     USA         \n",
      "1   #Traffic #Morning                               5.0   10.0     Canada      \n",
      "2   #Fitness #Workout                              20.0   40.0   USA           \n",
      "3   #Travel #Adventure                              8.0   15.0     UK          \n",
      "4   #Cooking #Food                                 12.0   25.0    Australia    \n",
      "\n",
      "   Year  Month  Day  Hour  \n",
      "0  2023      1   15    12  \n",
      "1  2023      1   15     8  \n",
      "2  2023      1   15    15  \n",
      "3  2023      1   15    18  \n",
      "4  2023      1   15    19  \n",
      "Index(['Unnamed: 0.1', 'Unnamed: 0', 'Text', 'Sentiment', 'Timestamp', 'User',\n",
      "       'Platform', 'Hashtags', 'Retweets', 'Likes', 'Country', 'Year', 'Month',\n",
      "       'Day', 'Hour'],\n",
      "      dtype='object')\n"
     ]
    }
   ],
   "source": [
    "import pandas as pd\n",
    "\n",
    "# Load the dataset\n",
    "file_path = r\"C:\\Users\\HP\\Desktop\\INTERNSHIP\\sentimentdataset.csv\"\n",
    "data = pd.read_csv(file_path)\n",
    "\n",
    "# Display the first few rows and column names of the dataset\n",
    "print(data.head())  # Shows the first 5 rows of the dataset\n",
    "print(data.columns)  # Shows the column names\n"
   ]
  },
  {
   "cell_type": "code",
   "execution_count": 7,
   "id": "8dd8da38-919b-45b5-b923-017f83aeabd0",
   "metadata": {},
   "outputs": [
    {
     "name": "stdout",
     "output_type": "stream",
     "text": [
      "                                                Text    Sentiment\n",
      "0   Enjoying a beautiful day at the park!        ...   Positive  \n",
      "1   Traffic was terrible this morning.           ...   Negative  \n",
      "2   Just finished an amazing workout! 💪          ...   Positive  \n",
      "3   Excited about the upcoming weekend getaway!  ...   Positive  \n",
      "4   Trying out a new recipe for dinner tonight.  ...   Neutral   \n",
      "                                                Text    Sentiment  \\\n",
      "0   Enjoying a beautiful day at the park!        ...   Positive     \n",
      "1   Traffic was terrible this morning.           ...   Negative     \n",
      "2   Just finished an amazing workout! 💪          ...   Positive     \n",
      "3   Excited about the upcoming weekend getaway!  ...   Positive     \n",
      "4   Trying out a new recipe for dinner tonight.  ...   Neutral      \n",
      "\n",
      "  Predicted_Sentiment  \n",
      "0            Positive  \n",
      "1            Negative  \n",
      "2            Positive  \n",
      "3            Positive  \n",
      "4            Positive  \n"
     ]
    }
   ],
   "source": [
    "import pandas as pd\n",
    "from textblob import TextBlob\n",
    "\n",
    "# Load the dataset\n",
    "file_path = r\"C:\\Users\\HP\\Desktop\\INTERNSHIP\\sentimentdataset.csv\"\n",
    "data = pd.read_csv(file_path)\n",
    "\n",
    "# Check the first few rows to confirm\n",
    "print(data[['Text', 'Sentiment']].head())\n",
    "\n",
    "# Define a function for sentiment analysis\n",
    "def get_sentiment(text):\n",
    "    # Create a TextBlob object\n",
    "    blob = TextBlob(str(text))\n",
    "    \n",
    "    # Get polarity score (range: -1 to 1)\n",
    "    sentiment_score = blob.sentiment.polarity\n",
    "    \n",
    "    # Classify sentiment based on polarity score\n",
    "    if sentiment_score > 0:\n",
    "        return 'Positive'\n",
    "    elif sentiment_score < 0:\n",
    "        return 'Negative'\n",
    "    else:\n",
    "        return 'Neutral'\n",
    "\n",
    "# Apply sentiment analysis to the 'Text' column\n",
    "data['Predicted_Sentiment'] = data['Text'].apply(get_sentiment)\n",
    "\n",
    "# Display the results\n",
    "print(data[['Text', 'Sentiment', 'Predicted_Sentiment']].head())\n",
    "\n",
    "# Optionally, save the results to a new CSV file\n",
    "data.to_csv(r\"C:\\Users\\HP\\Desktop\\INTERNSHIP\\sentimentdataset_with_predictions.csv\", index=False)\n"
   ]
  },
  {
   "cell_type": "code",
   "execution_count": null,
   "id": "a2d2f84c-1729-42c0-a068-d708d4b99d59",
   "metadata": {},
   "outputs": [],
   "source": []
  }
 ],
 "metadata": {
  "kernelspec": {
   "display_name": "Python 3 (ipykernel)",
   "language": "python",
   "name": "python3"
  },
  "language_info": {
   "codemirror_mode": {
    "name": "ipython",
    "version": 3
   },
   "file_extension": ".py",
   "mimetype": "text/x-python",
   "name": "python",
   "nbconvert_exporter": "python",
   "pygments_lexer": "ipython3",
   "version": "3.12.4"
  }
 },
 "nbformat": 4,
 "nbformat_minor": 5
}
